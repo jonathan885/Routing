{
 "cells": [
  {
   "cell_type": "code",
   "execution_count": 1,
   "metadata": {},
   "outputs": [],
   "source": [
    "import openai\n",
    "from dotenv import dotenv_values\n",
    "import json\n",
    "\n",
    "config = dotenv_values(\".env\")\n",
    "base_model = config[\"OPEN_AI_MODEL_4o_MINI\"]\n",
    "\n",
    "client = openai.OpenAI(api_key=config[\"OPENAI_API_KEY\"])\n",
    "\n",
    "from semantic_router.encoders.openai import OpenAIEncoder\n",
    "encoder = OpenAIEncoder(\n",
    "    name=config[\"EMBEDDING_MODEL\"], \n",
    "    openai_api_key=config[\"OPENAI_API_KEY\"])"
   ]
  },
  {
   "cell_type": "code",
   "execution_count": 2,
   "metadata": {},
   "outputs": [],
   "source": [
    "from semantic_router import Route"
   ]
  },
  {
   "cell_type": "code",
   "execution_count": 3,
   "metadata": {},
   "outputs": [],
   "source": [
    "financial_health_critical = Route(\n",
    "    name=\"financial health critical\",\n",
    "    utterances=[\n",
    "        \"looking for advice on immediate debt relief strategies (e.g., debt restructuring)\",\n",
    "        \"looking for advice on essential expense reduction\",\n",
    "        \"looking for on advice seeking professional financial counseling\"],\n",
    ")\n",
    "\n",
    "financial_health_poor = Route(\n",
    "    name=\"financial health poor\",\n",
    "    utterances=[\n",
    "        \"looking for advice on creating a strict, short-term budget.\",\n",
    "        \"looking for advice on prioritizing high-interest debt repayment.\",\n",
    "        \"looking for advice o exploring additional income sources.\"],\n",
    ")\n",
    "\n",
    "financial_health_fair = Route(\n",
    "    name=\"financial health fair\",\n",
    "    utterances=[\n",
    "        \"looking for advice on building an emergency fund\",\n",
    "        \"looking for advice on beginning modest investments\",\n",
    "        \"looking for advice on improving credit score\"],\n",
    ")\n",
    "\n",
    "financial_health_good = Route(\n",
    "    name=\"financial health good\",\n",
    "    utterances=[\n",
    "        \"Adlooking for advice  on Diversifying investment portfolio.\",\n",
    "        \"looking for advice on advanced retirement planning.\",\n",
    "        \"looking for forvise on tax optimization strategies.\"],\n",
    ")\n",
    "\n",
    "financial_health_excellent = Route(\n",
    "    name=\"financial health excellent\",\n",
    "    utterances=[\n",
    "        \"looking for on estate planning and legacy building.\",\n",
    "        \"looking for on innovative investments.\"],\n",
    ")\n",
    "\n",
    "routes = [financial_health_critical, financial_health_poor, financial_health_fair, financial_health_good, financial_health_excellent]"
   ]
  },
  {
   "cell_type": "code",
   "execution_count": 4,
   "metadata": {},
   "outputs": [],
   "source": [
    "from semantic_router.layer import RouteLayer\n",
    "rl = RouteLayer(encoder=encoder, routes=routes)"
   ]
  },
  {
   "cell_type": "code",
   "execution_count": 5,
   "metadata": {},
   "outputs": [],
   "source": [
    "query: str = \"can you create a plan for me to pay off my credit card over the next 12 months ?\"\n",
    "query: str = \"\"\"Our accountant told us that the gift tax annual exclusion is $15,000, and my husband and I made a gift of $30,000 from our joint checking account to our adult daughter. \\\n",
    "    Do we need to file a gift tax return?\"\"\"\n",
    "query: str = \"\"\"I qualify for a hardship withdrawal from my 401K plan, I know that I'll be subject to a penalty but what is the penalty rate?\"\"\"\n",
    "res = rl(query)"
   ]
  },
  {
   "cell_type": "code",
   "execution_count": 6,
   "metadata": {},
   "outputs": [
    {
     "data": {
      "text/plain": [
       "RouteChoice(name='financial health good', function_call=None, similarity_score=None)"
      ]
     },
     "execution_count": 6,
     "metadata": {},
     "output_type": "execute_result"
    }
   ],
   "source": [
    "res"
   ]
  }
 ],
 "metadata": {
  "kernelspec": {
   "display_name": "venv",
   "language": "python",
   "name": "python3"
  },
  "language_info": {
   "codemirror_mode": {
    "name": "ipython",
    "version": 3
   },
   "file_extension": ".py",
   "mimetype": "text/x-python",
   "name": "python",
   "nbconvert_exporter": "python",
   "pygments_lexer": "ipython3",
   "version": "3.12.6"
  }
 },
 "nbformat": 4,
 "nbformat_minor": 2
}
