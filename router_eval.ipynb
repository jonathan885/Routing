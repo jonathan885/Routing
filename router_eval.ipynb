{
 "cells": [
  {
   "cell_type": "code",
   "execution_count": 1,
   "metadata": {},
   "outputs": [],
   "source": [
    "import openai\n",
    "from dotenv import dotenv_values\n",
    "\n",
    "config = dotenv_values(\".env\")\n",
    "\n",
    "from pydantic import BaseModel, Field\n",
    "from openai import OpenAI\n",
    "from enum import Enum, StrEnum\n",
    "from jinja2 import Template\n",
    "\n",
    "client = OpenAI(api_key=config[\"OPENAI_API_KEY\"])\n",
    "model_4o = config[\"OPENAI_MODEL\"]\n",
    "model_4o_mini = config[\"OPEN_AI_MODEL_4o_MINI\"]\n",
    "model_o1_preview = config[\"OPEN_AI_MODEL_o1_PREVIEW\"]"
   ]
  },
  {
   "cell_type": "code",
   "execution_count": 2,
   "metadata": {},
   "outputs": [],
   "source": [
    "class Topics(StrEnum):\n",
    "    personal_financial_guidance=\"personal_financial_guidance\"\n",
    "    support_assistance=\"support_assistance\"\n",
    "    debt_management=\"debt_management\"\n",
    "    budget_management_tracking=\"budget_management_tracking\"\n",
    "    financial_goals_planning=\"financial_goals_planning\"\n",
    "    contact_financial_institution=\"contact_financial_institution\"\n",
    "    other=\"other\"\n",
    "\n",
    "class GradingHallucination(BaseModel):\n",
    "    topic: list[Topics] = Field(description=\"the topic of the last query provided by the user in the messages list\")\n",
    "    last_query: str = Field(description=\"the last query provided by the user in the messages list\")\n",
    "    is_hallucination_score : float = Field(description=\"the score associated to the hallucination detection between 0 and 1, 0 being not an hallucination, 1 being an hallucination\")\n",
    "    is_hallucination_confidence : float = Field(description=\"the confidence score associated to the hallucination detection score between 0 and 1, 0 being not confident, 1 being confident\")\n",
    "    is_hallucination: bool = Field(description=\"is the last query an hallucination\")\n",
    "\n",
    "class TopicDetection(BaseModel):\n",
    "    topic: list[Topics] = Field(description=\"the topic of the last query provided by the user in the messages list\")\n",
    "    last_query: str = Field(description=\"the last query provided by the user in the messages list\")\n",
    "    topic_detection_confidence : float = Field(description=\"the confidence score associated to the topic detection score between 0 and 1, 0 being not confident, 1 being confident\")\n"
   ]
  },
  {
   "cell_type": "code",
   "execution_count": 3,
   "metadata": {},
   "outputs": [],
   "source": [
    "topic_list = \"\"\"\n",
    "- Personalized Financial Guidance: Tailored advice to help users make informed financial decisions.\n",
    "- 24/7 Support: Continuous availability to assist users with their financial queries and concerns.\n",
    "- Debt Management: Tools to help users manage and reduce their debts effectively.\n",
    "- Budget Management and Tracking: Features to create, manage, and track personal budgets.\n",
    "- Financial Goals Planning: Assistance in setting and achieving financial goals.\n",
    "- Integration with Financial Institutions: Seamless connection with banks and financial services for real-time data.\"\"\"\n",
    "\n",
    "template_str = \"\"\"\n",
    "### List of authorized topics ###\n",
    "{{ topics }}\n",
    "                \n",
    "### Instruction: find the topic of the current query. ###\n",
    "\n",
    "### Additional instructions ###\n",
    "- use the TopicDetection pydantic model to output your result\n",
    "\"\"\"\n",
    "template = Template(template_str)\n",
    "generated_prompts = template.render(topics=topic_list)"
   ]
  },
  {
   "cell_type": "code",
   "execution_count": 4,
   "metadata": {},
   "outputs": [
    {
     "name": "stdout",
     "output_type": "stream",
     "text": [
      "\n",
      "### List of authorized topics ###\n",
      "\n",
      "- Personalized Financial Guidance: Tailored advice to help users make informed financial decisions.\n",
      "- 24/7 Support: Continuous availability to assist users with their financial queries and concerns.\n",
      "- Debt Management: Tools to help users manage and reduce their debts effectively.\n",
      "- Budget Management and Tracking: Features to create, manage, and track personal budgets.\n",
      "- Financial Goals Planning: Assistance in setting and achieving financial goals.\n",
      "- Integration with Financial Institutions: Seamless connection with banks and financial services for real-time data.\n",
      "                \n",
      "### Instruction: find the topic of the current query. ###\n",
      "\n",
      "### Additional instructions ###\n",
      "- use the TopicDetection pydantic model to output your result\n"
     ]
    }
   ],
   "source": [
    "print(generated_prompts)"
   ]
  },
  {
   "cell_type": "code",
   "execution_count": 5,
   "metadata": {},
   "outputs": [],
   "source": [
    "query: str = \"can you create a plan for me to pay off my credit card over the next 12 months ?\"\n",
    "# query: str = \"I'm interested in buying Treasury bills to add to my portfolio, I have $500 to put towards a new investment and am thinking of buying Treasury bills,  is this a good idea? \"\n",
    "# query: str = \"I'm a CPA and occassionally provide investment advice that is incidental to other business activites. Do I need to register? \"\n",
    "# query: str = \"I'm trying to save $40,000 for a down payment on a new home in 3 years. I can invest $1,000 at the beginning of each month, and expect to earn 10% compounded monthly on my investments. How much will I have saved in 3 years and will it be enough? \"\n",
    "current_messages = [\n",
    "    {\"role\": \"system\", \"content\": generated_prompts},\n",
    "    {\"role\":\"user\", \"content\": f\"{query}\"}]"
   ]
  },
  {
   "cell_type": "code",
   "execution_count": 6,
   "metadata": {},
   "outputs": [],
   "source": [
    "# current_messages"
   ]
  },
  {
   "cell_type": "code",
   "execution_count": 7,
   "metadata": {},
   "outputs": [],
   "source": [
    "completion = client.beta.chat.completions.parse(\n",
    "    model=model_4o_mini,\n",
    "    messages = current_messages,\n",
    "    response_format=TopicDetection,\n",
    "    temperature=0.0\n",
    ")"
   ]
  },
  {
   "cell_type": "code",
   "execution_count": 8,
   "metadata": {},
   "outputs": [
    {
     "data": {
      "text/plain": [
       "{'topic': [<Topics.debt_management: 'debt_management'>],\n",
       " 'last_query': 'can you create a plan for me to pay off my credit card over the next 12 months ?',\n",
       " 'topic_detection_confidence': 0.95}"
      ]
     },
     "execution_count": 8,
     "metadata": {},
     "output_type": "execute_result"
    }
   ],
   "source": [
    "completion.choices[0].message.parsed.model_dump()"
   ]
  },
  {
   "cell_type": "code",
   "execution_count": 9,
   "metadata": {},
   "outputs": [],
   "source": [
    "query: str = \"Tell me a joke about cats\"\n",
    "current_messages = [\n",
    "    {\"role\": \"system\", \"content\": generated_prompts},\n",
    "    {\"role\":\"user\", \"content\": f\"{query}\"}]\n",
    "\n",
    "completion = client.beta.chat.completions.parse(\n",
    "    model=model_4o_mini,\n",
    "    messages = current_messages,\n",
    "    response_format=TopicDetection,\n",
    "    temperature=0.0\n",
    ")"
   ]
  },
  {
   "cell_type": "code",
   "execution_count": 10,
   "metadata": {},
   "outputs": [
    {
     "data": {
      "text/plain": [
       "{'topic': [<Topics.other: 'other'>],\n",
       " 'last_query': 'Tell me a joke about cats',\n",
       " 'topic_detection_confidence': 0.1}"
      ]
     },
     "execution_count": 10,
     "metadata": {},
     "output_type": "execute_result"
    }
   ],
   "source": [
    "completion.choices[0].message.parsed.model_dump()"
   ]
  },
  {
   "cell_type": "code",
   "execution_count": 14,
   "metadata": {},
   "outputs": [
    {
     "data": {
      "text/html": [
       "<div>\n",
       "<style scoped>\n",
       "    .dataframe tbody tr th:only-of-type {\n",
       "        vertical-align: middle;\n",
       "    }\n",
       "\n",
       "    .dataframe tbody tr th {\n",
       "        vertical-align: top;\n",
       "    }\n",
       "\n",
       "    .dataframe thead th {\n",
       "        text-align: right;\n",
       "    }\n",
       "</style>\n",
       "<table border=\"1\" class=\"dataframe\">\n",
       "  <thead>\n",
       "    <tr style=\"text-align: right;\">\n",
       "      <th></th>\n",
       "      <th>#</th>\n",
       "      <th>Question</th>\n",
       "      <th>Expected Answer</th>\n",
       "      <th>AI Answer</th>\n",
       "      <th>Notes</th>\n",
       "      <th>Source</th>\n",
       "    </tr>\n",
       "  </thead>\n",
       "  <tbody>\n",
       "    <tr>\n",
       "      <th>0</th>\n",
       "      <td>1</td>\n",
       "      <td>I qualify for a hardship withdrawal from my 40...</td>\n",
       "      <td>Hardship withdrawals taken from a 401k plan ar...</td>\n",
       "      <td>The penalty for early withdrawals from a 401(k...</td>\n",
       "      <td>NaN</td>\n",
       "      <td>NaN</td>\n",
       "    </tr>\n",
       "    <tr>\n",
       "      <th>1</th>\n",
       "      <td>2</td>\n",
       "      <td>I accidentally contributed more to my IRA than...</td>\n",
       "      <td>The excess contribution is subject to a 6% exc...</td>\n",
       "      <td>If you contribute more to your IRA than the al...</td>\n",
       "      <td>NaN</td>\n",
       "      <td>NaN</td>\n",
       "    </tr>\n",
       "  </tbody>\n",
       "</table>\n",
       "</div>"
      ],
      "text/plain": [
       "   #                                           Question  \\\n",
       "0  1  I qualify for a hardship withdrawal from my 40...   \n",
       "1  2  I accidentally contributed more to my IRA than...   \n",
       "\n",
       "                                     Expected Answer  \\\n",
       "0  Hardship withdrawals taken from a 401k plan ar...   \n",
       "1  The excess contribution is subject to a 6% exc...   \n",
       "\n",
       "                                           AI Answer Notes Source  \n",
       "0  The penalty for early withdrawals from a 401(k...   NaN    NaN  \n",
       "1  If you contribute more to your IRA than the al...   NaN    NaN  "
      ]
     },
     "execution_count": 14,
     "metadata": {},
     "output_type": "execute_result"
    }
   ],
   "source": [
    "import pandas as pd\n",
    "df = pd.read_excel(\"~/Downloads/AI Training Questions.xlsx\")\n",
    "df.head(2)"
   ]
  },
  {
   "cell_type": "code",
   "execution_count": 15,
   "metadata": {},
   "outputs": [],
   "source": [
    "def process_query(q: str):\n",
    "    current_messages = [\n",
    "        {\"role\": \"system\", \"content\": generated_prompts},\n",
    "        {\"role\":\"user\", \"content\": f\"{q}\"}]\n",
    "\n",
    "    completion = client.beta.chat.completions.parse(\n",
    "        model=model_4o_mini,\n",
    "        messages = current_messages,\n",
    "        response_format=TopicDetection,\n",
    "        temperature=0.0\n",
    "    )\n",
    "    return completion\n",
    "    "
   ]
  },
  {
   "cell_type": "code",
   "execution_count": 16,
   "metadata": {},
   "outputs": [],
   "source": [
    "res = []\n",
    "for q in df[\"Question\"]:\n",
    "    res.append({'query':q, 'answer':process_query(q=q)})\n",
    "    "
   ]
  },
  {
   "cell_type": "code",
   "execution_count": 17,
   "metadata": {},
   "outputs": [
    {
     "data": {
      "text/plain": [
       "21"
      ]
     },
     "execution_count": 17,
     "metadata": {},
     "output_type": "execute_result"
    }
   ],
   "source": [
    "len(res)"
   ]
  },
  {
   "cell_type": "code",
   "execution_count": 18,
   "metadata": {},
   "outputs": [
    {
     "name": "stdout",
     "output_type": "stream",
     "text": [
      "query : I qualify for a hardship withdrawal from my 401K plan, I know that I'll be subject to a penalty but what is the penalty rate?\n",
      "completion : {'topic': [<Topics.debt_management: 'debt_management'>], 'last_query': \"I qualify for a hardship withdrawal from my 401K plan, I know that I'll be subject to a penalty but what is the penalty rate?\", 'topic_detection_confidence': 0.85}\n",
      "\n",
      "query : I accidentally contributed more to my IRA than is permitted, what will happen? \n",
      "completion : {'topic': [<Topics.debt_management: 'debt_management'>], 'last_query': 'I accidentally contributed more to my IRA than is permitted, what will happen?', 'topic_detection_confidence': 0.85}\n",
      "\n",
      "query : What is the limit on the amount of property that may be gifted tax-free between spouses?\n",
      "completion : {'topic': [<Topics.other: 'other'>], 'last_query': 'What is the limit on the amount of property that may be gifted tax-free between spouses?', 'topic_detection_confidence': 0.7}\n",
      "\n",
      "query : Our accountant told us that the gift tax annual exclusion is $15,000, and my husband and I made a gift of $30,000 from our joint checking account to our adult daughter. Do we need to file a gift tax return?\n",
      "completion : {'topic': [<Topics.financial_goals_planning: 'financial_goals_planning'>], 'last_query': 'Do we need to file a gift tax return for a $30,000 gift to our daughter?', 'topic_detection_confidence': 0.85}\n",
      "\n",
      "query : I'm trying to set up a budget what percentage of my budget would you advise my housing costs to be at a maximum? \n",
      "completion : {'topic': [<Topics.budget_management_tracking: 'budget_management_tracking'>], 'last_query': \"I'm trying to set up a budget what percentage of my budget would you advise my housing costs to be at a maximum?\", 'topic_detection_confidence': 0.95}\n",
      "\n",
      "query : Can I use money from a 529 plan to pay for room and board? \n",
      "completion : {'topic': [<Topics.financial_goals_planning: 'financial_goals_planning'>], 'last_query': 'Can I use money from a 529 plan to pay for room and board?', 'topic_detection_confidence': 0.85}\n",
      "\n",
      "query : I'm trying to save $40,000 for a down payment on a new home in 3 years. I can invest $1,000 at the beginning of each month, and expect to earn 10% compounded monthly on my investments. How much will I have saved in 3 years and will it be enough? \n",
      "completion : {'topic': [<Topics.financial_goals_planning: 'financial_goals_planning'>], 'last_query': \"I'm trying to save $40,000 for a down payment on a new home in 3 years. I can invest $1,000 at the beginning of each month, and expect to earn 10% compounded monthly on my investments. How much will I have saved in 3 years and will it be enough?\", 'topic_detection_confidence': 0.95}\n",
      "\n",
      "query : I'm interested in buying Treasury bills to add to my portfolio, I have $500 to put towards a new investment and am thinking of buying Treasury bills,  is this a good idea? \n",
      "completion : {'topic': [<Topics.personal_financial_guidance: 'personal_financial_guidance'>], 'last_query': \"I'm interested in buying Treasury bills to add to my portfolio, I have $500 to put towards a new investment and am thinking of buying Treasury bills, is this a good idea?\", 'topic_detection_confidence': 0.9}\n",
      "\n",
      "query : What can I invest in that will provide tax-exempt interest for qualifying education expenses? \n",
      "completion : {'topic': [<Topics.financial_goals_planning: 'financial_goals_planning'>], 'last_query': 'What can I invest in that will provide tax-exempt interest for qualifying education expenses?', 'topic_detection_confidence': 0.85}\n",
      "\n",
      "query : I expect a large decrease in the stock market sixty days from today, what should I do to take advantage of the change by doing which of the following? \n",
      "completion : {'topic': [<Topics.personal_financial_guidance: 'personal_financial_guidance'>], 'last_query': 'I expect a large decrease in the stock market sixty days from today, what should I do to take advantage of the change by doing which of the following?', 'topic_detection_confidence': 0.85}\n",
      "\n",
      "query : What does engaging a financial planner look like? What are the steps to create a financial plan? \n",
      "completion : {'topic': [<Topics.personal_financial_guidance: 'personal_financial_guidance'>], 'last_query': 'What does engaging a financial planner look like? What are the steps to create a financial plan?', 'topic_detection_confidence': 0.9}\n",
      "\n",
      "query : I've set up a Coverdell Education Savings Account (ESA) for my son and his three uncles would all like to contribut money to the ESA. What's the maximum contribution they can make on behalf of their nephew? \n",
      "completion : {'topic': [<Topics.personal_financial_guidance: 'personal_financial_guidance'>], 'last_query': \"What's the maximum contribution they can make on behalf of their nephew to a Coverdell Education Savings Account?\", 'topic_detection_confidence': 0.9}\n",
      "\n",
      "query : Are Pell Grants available to part-time students? \n",
      "completion : {'topic': [<Topics.other: 'other'>], 'last_query': 'Are Pell Grants available to part-time students?', 'topic_detection_confidence': 0.2}\n",
      "\n",
      "query : Are Federal Supplemental Educational Opportunity Grants available for all students? \n",
      "completion : {'topic': [<Topics.other: 'other'>], 'last_query': 'Are Federal Supplemental Educational Opportunity Grants available for all students?', 'topic_detection_confidence': 0.7}\n",
      "\n",
      "query : I have a parent PLUS loan for my child, they've just dropped a course and are no longer a full time student. Am I still eligible for this loan? \n",
      "completion : {'topic': [<Topics.debt_management: 'debt_management'>], 'last_query': \"I have a parent PLUS loan for my child, they've just dropped a course and are no longer a full time student. Am I still eligible for this loan?\", 'topic_detection_confidence': 0.85}\n",
      "\n",
      "query : I set up a Coverdell Education Savings Account (ESA) for my daughter, is there an age limit by when she needs to use the money in this account? \n",
      "completion : {'topic': [<Topics.financial_goals_planning: 'financial_goals_planning'>], 'last_query': 'I set up a Coverdell Education Savings Account (ESA) for my daughter, is there an age limit by when she needs to use the money in this account?', 'topic_detection_confidence': 0.85}\n",
      "\n",
      "query : What is the maximum contribution a donor can make in a single year to a 529 plan if the gift tax annual exclusion is $15,000? This donor has not made previous contributions to a 529 plan.\n",
      "completion : {'topic': [<Topics.financial_goals_planning: 'financial_goals_planning'>], 'last_query': 'What is the maximum contribution a donor can make in a single year to a 529 plan if the gift tax annual exclusion is $15,000? This donor has not made previous contributions to a 529 plan.', 'topic_detection_confidence': 0.9}\n",
      "\n",
      "query : I'm thinking about starting a Coverdell Education Savings Account (ESA) for my daughter that is talking about going back to school. Is there an age limit I need to consider? \n",
      "completion : {'topic': [<Topics.financial_goals_planning: 'financial_goals_planning'>], 'last_query': \"I'm thinking about starting a Coverdell Education Savings Account (ESA) for my daughter that is talking about going back to school. Is there an age limit I need to consider?\", 'topic_detection_confidence': 0.9}\n",
      "\n",
      "query : As a Registered Investment Advisor (RIA) at what level of assets under management do I need to register with the states I manage clients? \n",
      "completion : {'topic': [<Topics.other: 'other'>], 'last_query': 'As a Registered Investment Advisor (RIA) at what level of assets under management do I need to register with the states I manage clients?', 'topic_detection_confidence': 0.85}\n",
      "\n",
      "query : I'm a CPA and occassionally provide investment advice that is incidental to other business activites. Do I need to register? \n",
      "completion : {'topic': [<Topics.personal_financial_guidance: 'personal_financial_guidance'>], 'last_query': \"I'm a CPA and occassionally provide investment advice that is incidental to other business activites. Do I need to register?\", 'topic_detection_confidence': 0.85}\n",
      "\n",
      "query : nan\n",
      "completion : {'topic': [<Topics.other: 'other'>], 'last_query': 'nan', 'topic_detection_confidence': 0.1}\n",
      "\n"
     ]
    }
   ],
   "source": [
    "for r in res:\n",
    "    print(f\"query : {r['query']}\")\n",
    "    print(f\"completion : {r['answer'].choices[0].message.parsed.model_dump()}\")\n",
    "    print(\"\")"
   ]
  },
  {
   "cell_type": "code",
   "execution_count": 27,
   "metadata": {},
   "outputs": [
    {
     "name": "stdout",
     "output_type": "stream",
     "text": [
      "I qualify for a hardship withdrawal from my 401K plan, I know that I'll be subject to a penalty but what is the penalty rate?, debt_management\n",
      "\n",
      "I accidentally contributed more to my IRA than is permitted, what will happen? , debt_management\n",
      "\n",
      "What is the limit on the amount of property that may be gifted tax-free between spouses?, other\n",
      "\n",
      "Our accountant told us that the gift tax annual exclusion is $15,000, and my husband and I made a gift of $30,000 from our joint checking account to our adult daughter. Do we need to file a gift tax return?, financial_goals_planning\n",
      "\n",
      "I'm trying to set up a budget what percentage of my budget would you advise my housing costs to be at a maximum? , budget_management_tracking\n",
      "\n",
      "Can I use money from a 529 plan to pay for room and board? , financial_goals_planning\n",
      "\n",
      "I'm trying to save $40,000 for a down payment on a new home in 3 years. I can invest $1,000 at the beginning of each month, and expect to earn 10% compounded monthly on my investments. How much will I have saved in 3 years and will it be enough? , financial_goals_planning\n",
      "\n",
      "I'm interested in buying Treasury bills to add to my portfolio, I have $500 to put towards a new investment and am thinking of buying Treasury bills,  is this a good idea? , personal_financial_guidance\n",
      "\n",
      "What can I invest in that will provide tax-exempt interest for qualifying education expenses? , financial_goals_planning\n",
      "\n",
      "I expect a large decrease in the stock market sixty days from today, what should I do to take advantage of the change by doing which of the following? , personal_financial_guidance\n",
      "\n",
      "What does engaging a financial planner look like? What are the steps to create a financial plan? , personal_financial_guidance\n",
      "\n",
      "I've set up a Coverdell Education Savings Account (ESA) for my son and his three uncles would all like to contribut money to the ESA. What's the maximum contribution they can make on behalf of their nephew? , personal_financial_guidance\n",
      "\n",
      "Are Pell Grants available to part-time students? , other\n",
      "\n",
      "Are Federal Supplemental Educational Opportunity Grants available for all students? , other\n",
      "\n",
      "I have a parent PLUS loan for my child, they've just dropped a course and are no longer a full time student. Am I still eligible for this loan? , debt_management\n",
      "\n",
      "I set up a Coverdell Education Savings Account (ESA) for my daughter, is there an age limit by when she needs to use the money in this account? , financial_goals_planning\n",
      "\n",
      "What is the maximum contribution a donor can make in a single year to a 529 plan if the gift tax annual exclusion is $15,000? This donor has not made previous contributions to a 529 plan., financial_goals_planning\n",
      "\n",
      "I'm thinking about starting a Coverdell Education Savings Account (ESA) for my daughter that is talking about going back to school. Is there an age limit I need to consider? , financial_goals_planning\n",
      "\n",
      "As a Registered Investment Advisor (RIA) at what level of assets under management do I need to register with the states I manage clients? , other\n",
      "\n",
      "I'm a CPA and occassionally provide investment advice that is incidental to other business activites. Do I need to register? , personal_financial_guidance\n",
      "\n",
      "nan, other\n",
      "\n"
     ]
    }
   ],
   "source": [
    "for r in res:\n",
    "    print(f\"{r['query']}, {r['answer'].choices[0].message.parsed.model_dump()['topic'][0]}\\n\")"
   ]
  },
  {
   "cell_type": "code",
   "execution_count": null,
   "metadata": {},
   "outputs": [],
   "source": []
  },
  {
   "cell_type": "code",
   "execution_count": null,
   "metadata": {},
   "outputs": [],
   "source": []
  },
  {
   "cell_type": "code",
   "execution_count": null,
   "metadata": {},
   "outputs": [],
   "source": [
    "query: str = \"can you create a plan for me to pay off my credit card over the next 12 months ?\"\n",
    "query: str = \"I'm interested in buying Treasury bills to add to my portfolio, I have $500 to put towards a new investment and am thinking of buying Treasury bills,  is this a good idea? \"\n",
    "query: str = \"I'm a CPA and occassionally provide investment advice that is incidental to other business activites. Do I need to register? \"\n",
    "query: str = \"I'm trying to save $40,000 for a down payment on a new home in 3 years. I can invest $1,000 at the beginning of each month, and expect to earn 10% compounded monthly on my investments. How much will I have saved in 3 years and will it be enough? \"\n",
    "current_messages = [{\"role\": \"system\", \"content\": \n",
    "\"\"\"\n",
    "### List of authorized topics ###\n",
    "- Personalized Financial Guidance: Tailored advice to help users make informed financial decisions.\n",
    "- 24/7 Support: Continuous availability to assist users with their financial queries and concerns.\n",
    "- Debt Management: Tools to help users manage and reduce their debts effectively.\n",
    "- Budget Management and Tracking: Features to create, manage, and track personal budgets.\n",
    "- Financial Goals Planning: Assistance in setting and achieving financial goals.\n",
    "- Integration with Financial Institutions: Seamless connection with banks and financial services for real-time data.\n",
    "                \n",
    "### Instruction: detect if the current content is hallucination. ###\n",
    "An hallucination is defined if the topic of the sentence is not related to the list of authorized topics:\n",
    "\n",
    "\n",
    "### Additional instructions ###\n",
    "- use the GradingHallucination pydantic model to output your result\n",
    "- use `other` topic if the user last query is not related to any of the above.\n",
    "\"\"\"},\n",
    "{\"role\":\"user\", \"content\": f\"{query}\"}]"
   ]
  },
  {
   "cell_type": "code",
   "execution_count": 107,
   "metadata": {},
   "outputs": [
    {
     "name": "stdout",
     "output_type": "stream",
     "text": [
      "{'topic': [<Topics.life_insurance_inquiry: 'life_insurance_inquiry'>], 'last_query': 'I want to buy life insurance', 'sentiment': [<Sentiment.neutral: 'neutral'>], 'sentiment_score': [0.9], 'summary': 'The user is expressing interest in purchasing life insurance.'}\n",
      "{'topic': [<Topics.life_insurance_inquiry: 'life_insurance_inquiry'>], 'last_query': 'I want to buy life insurance', 'sentiment': [<Sentiment.neutral: 'neutral'>], 'sentiment_score': [0.9], 'summary': 'The user is interested in purchasing life insurance and is seeking information or assistance regarding the process.'}\n",
      "{'topic': [<Topics.life_insurance_inquiry: 'life_insurance_inquiry'>], 'last_query': 'I want to buy life insurance', 'sentiment': [<Sentiment.neutral: 'neutral'>], 'sentiment_score': [0.9], 'summary': 'The user is interested in purchasing life insurance and is providing necessary personal information for the process.'}\n"
     ]
    }
   ],
   "source": [
    "for r in res:\n",
    "    print(r.model_dump())"
   ]
  },
  {
   "cell_type": "code",
   "execution_count": 39,
   "metadata": {},
   "outputs": [
    {
     "data": {
      "text/plain": [
       "{'topic': [<Topics.life_insurance_inquiry: 'life_insurance_inquiry'>],\n",
       " 'query': 'I want to buy life insurance',\n",
       " 'sentiment': [<Sentiment.neutral: 'neutral'>],\n",
       " 'sentiment_score': [0.9],\n",
       " 'summary': 'The user is interested in purchasing life insurance and is providing necessary personal information for the process.'}"
      ]
     },
     "execution_count": 39,
     "metadata": {},
     "output_type": "execute_result"
    }
   ],
   "source": [
    "res[0].model_dump()"
   ]
  },
  {
   "cell_type": "code",
   "execution_count": 41,
   "metadata": {},
   "outputs": [
    {
     "data": {
      "text/plain": [
       "CompletionUsage(completion_tokens=54, prompt_tokens=225, total_tokens=279)"
      ]
     },
     "execution_count": 41,
     "metadata": {},
     "output_type": "execute_result"
    }
   ],
   "source": [
    "completion.usage"
   ]
  },
  {
   "cell_type": "code",
   "execution_count": 57,
   "metadata": {},
   "outputs": [
    {
     "name": "stdout",
     "output_type": "stream",
     "text": [
      "{'completion_tokens': 54, 'prompt_tokens': 225, 'total_tokens': 279}\n"
     ]
    },
    {
     "data": {
      "text/plain": [
       "6.615000000000001e-05"
      ]
     },
     "execution_count": 57,
     "metadata": {},
     "output_type": "execute_result"
    }
   ],
   "source": [
    "def get_cost(comp):\n",
    "\n",
    "    usage_dict = dict(comp.usage)\n",
    "    print(usage_dict)\n",
    "    for k, v in usage_dict.items():\n",
    "        input = usage_dict[\"prompt_tokens\"] * cost[model][\"input\"] / 1_000_000\n",
    "        output = usage_dict[\"completion_tokens\"] * cost[model][\"output\"] / 1_000_000\n",
    "    return input + output\n",
    "\n",
    "get_cost(completion)\n"
   ]
  },
  {
   "cell_type": "code",
   "execution_count": 53,
   "metadata": {},
   "outputs": [
    {
     "data": {
      "text/plain": [
       "{'completion_tokens': 54, 'prompt_tokens': 225, 'total_tokens': 279}"
      ]
     },
     "execution_count": 53,
     "metadata": {},
     "output_type": "execute_result"
    }
   ],
   "source": [
    "dict(completion.usage)"
   ]
  },
  {
   "cell_type": "code",
   "execution_count": null,
   "metadata": {},
   "outputs": [],
   "source": []
  }
 ],
 "metadata": {
  "kernelspec": {
   "display_name": "venv",
   "language": "python",
   "name": "python3"
  },
  "language_info": {
   "codemirror_mode": {
    "name": "ipython",
    "version": 3
   },
   "file_extension": ".py",
   "mimetype": "text/x-python",
   "name": "python",
   "nbconvert_exporter": "python",
   "pygments_lexer": "ipython3",
   "version": "3.12.6"
  }
 },
 "nbformat": 4,
 "nbformat_minor": 2
}
